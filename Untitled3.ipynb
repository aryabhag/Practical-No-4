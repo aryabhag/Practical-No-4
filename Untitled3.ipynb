{
  "nbformat": 4,
  "nbformat_minor": 0,
  "metadata": {
    "colab": {
      "name": "Untitled3.ipynb",
      "provenance": []
    },
    "kernelspec": {
      "name": "python3",
      "display_name": "Python 3"
    },
    "language_info": {
      "name": "python"
    }
  },
  "cells": [
    {
      "cell_type": "markdown",
      "source": [
        "Practical No:4\n",
        "write a program to create concatenate and print a string and accessing substring from a given string."
      ],
      "metadata": {
        "id": "b7ZZTTvwqGVs"
      }
    },
    {
      "cell_type": "code",
      "execution_count": 5,
      "metadata": {
        "colab": {
          "base_uri": "https://localhost:8080/"
        },
        "id": "Fcb1pyZypk7X",
        "outputId": "4c43b412-d77c-47a2-997c-72255f3edd77"
      },
      "outputs": [
        {
          "output_type": "stream",
          "name": "stdout",
          "text": [
            "Enter first String : Aryan \n",
            "Enter second String : Jadhav\n",
            "First string is :  Aryan \n",
            "Second string is :  Jadhav\n",
            "concatenations of two strings : Aryan Jadhav\n",
            "Substring of given string : ry\n"
          ]
        }
      ],
      "source": [
        "s1=input(\"Enter first String : \"); \n",
        "s2=input(\"Enter second String : \");\n",
        "print(\"First string is : \",s1);\n",
        "print(\"Second string is : \",s2);\n",
        "print(\"concatenations of two strings :\",s1+s2);\n",
        "print(\"Substring of given string :\",s1[1:3]);"
      ]
    }
  ]
}